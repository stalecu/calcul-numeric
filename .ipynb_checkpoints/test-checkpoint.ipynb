{
 "cells": [
  {
   "cell_type": "markdown",
   "metadata": {},
   "source": [
    "**NOTE**: This is a Julia demo for Binder, it's been adapted from the Julia demo on the nbconvert website.\n",
    "\n",
    "Binder is an open-source project and Julia support is early in development. If you'd like to improve Julia support in Binder, see our issue on adding Julia support here: https://github.com/jupyter/repo2docker/issues/23. We'd love to hear from you!"
   ]
  },
  {
   "cell_type": "markdown",
   "metadata": {},
   "source": [
    "# An IJulia Demo"
   ]
  },
  {
   "cell_type": "markdown",
   "metadata": {},
   "source": [
    "This notebook uses **IJulia**: a [Julia-language](http://julialang.org/) backend combined with the [IPython](http://ipython.org/) interactive environment.   This combination allows you to interact with the Julia language using IPython's powerful [graphical notebook](http://ipython.org/notebook.html), which combines code, formatted text, math, and multimedia in a single document."
   ]
  },
  {
   "cell_type": "markdown",
   "metadata": {},
   "source": [
    "## Basic Julia interaction"
   ]
  },
  {
   "cell_type": "markdown",
   "metadata": {},
   "source": [
    "Basic mathematical expressions work like you expect:"
   ]
  },
  {
   "cell_type": "code",
   "execution_count": null,
   "metadata": {
    "collapsed": true
   },
   "outputs": [],
   "source": [
    "1 + sin(3)"
   ]
  },
  {
   "cell_type": "markdown",
   "metadata": {},
   "source": [
    "You can define variables, write loops, and execute arbitrary multiline code blocks.  Here is an example of an alternating harmonic series $\\sum_{n=1}^\\infty \\frac{(-1)^n}{n}$ from a [Julia tutorial by Homer Reid](http://homerreid.ath.cx/teaching/18.330/JuliaProgramming.shtml#SimplePrograms):"
   ]
  },
  {
   "cell_type": "code",
   "execution_count": 2,
   "metadata": {},
   "outputs": [
    {
     "data": {
      "text/plain": [
       "0.6930971830599458"
      ]
     },
     "execution_count": 2,
     "metadata": {},
     "output_type": "execute_result"
    }
   ],
   "source": [
    "s = 0.0\n",
    "for n = 1:2:10000\n",
    "    s += 1/n - 1/(n+1)\n",
    "end\n",
    "s # an expression on the last line (if it doesn't end with \";\") is printed as \"Out\""
   ]
  },
  {
   "cell_type": "code",
   "execution_count": null,
   "metadata": {},
   "outputs": [],
   "source": []
  },
  {
   "cell_type": "markdown",
   "metadata": {},
   "source": [
    "Previous outputs can be referred to via `Out[`*n*`]`, following the IPython, for example `Out[2]` for the result above.  You can also use the shorthand `_2`, or `_` for the previous result, as in IPython.  Like in Matlab, `ans` can also be used to refer to the previous result, *even if it was not printed* (when the command ended with `;`).\n",
    "\n",
    "For example, the harmonic series above should be converging (slowly) to $\\ln 2$, and we can check this:"
   ]
  },
  {
   "cell_type": "code",
   "execution_count": 3,
   "metadata": {},
   "outputs": [
    {
     "data": {
      "text/plain": [
       "-4.9997499999454575e-5"
      ]
     },
     "execution_count": 3,
     "metadata": {},
     "output_type": "execute_result"
    }
   ],
   "source": [
    "Out[2] - log(2)"
   ]
  },
  {
   "cell_type": "code",
   "execution_count": null,
   "metadata": {},
   "outputs": [],
   "source": []
  },
  {
   "cell_type": "markdown",
   "metadata": {},
   "source": [
    "Like Matlab or Scipy + Numpy, Julia has lots of mathematical functions and linear algebra built in.  For example, we can define a $500\\times500$ random matrix $R$ and form the positive-definite matrix $R^* R$:"
   ]
  },
  {
   "cell_type": "code",
   "execution_count": 4,
   "metadata": {},
   "outputs": [
    {
     "data": {
      "text/plain": [
       "500×500 Matrix{Float64}:\n",
       " 167.92   123.648  122.6    122.014  …  117.383  124.567  126.829  129.644\n",
       " 123.648  161.649  122.78   116.973     115.994  119.326  124.611  123.26\n",
       " 122.6    122.78   163.268  118.793     113.155  120.221  124.202  126.792\n",
       " 122.014  116.973  118.793  156.294     110.266  121.871  121.104  125.938\n",
       " 130.568  129.205  131.268  124.32      121.043  128.334  132.677  131.621\n",
       " 127.53   120.811  120.916  118.898  …  117.334  118.288  126.411  128.078\n",
       " 126.697  119.875  124.821  121.696     115.372  124.101  127.236  128.302\n",
       " 125.403  124.143  126.241  118.784     117.175  125.022  130.99   126.055\n",
       " 135.074  122.793  130.883  124.346     120.552  128.857  133.695  130.566\n",
       " 121.535  120.265  121.502  120.47      115.025  120.453  129.314  122.56\n",
       " 130.307  122.77   124.942  125.662  …  118.868  121.988  131.053  127.742\n",
       " 125.423  123.986  126.897  124.501     122.109  126.23   128.879  132.217\n",
       " 128.242  123.968  121.34   118.134     116.174  122.291  126.137  125.218\n",
       "   ⋮                                 ⋱                             \n",
       " 119.392  113.213  116.279  114.533     110.271  118.163  118.542  119.384\n",
       " 132.732  128.806  130.719  123.163     124.254  130.637  132.65   131.257\n",
       " 125.733  125.887  123.418  123.231  …  120.622  126.632  130.157  128.958\n",
       " 126.604  118.75   121.84   119.174     115.227  123.249  127.632  128.632\n",
       " 128.1    122.434  126.157  122.014     117.192  126.546  128.622  133.667\n",
       " 127.547  120.333  123.264  115.456     113.342  121.511  125.653  125.371\n",
       " 124.48   122.479  122.75   117.931     116.536  121.083  124.804  128.623\n",
       " 127.653  128.2    125.345  122.937  …  118.861  127.362  129.106  128.478\n",
       " 117.383  115.994  113.155  110.266     149.834  112.771  121.013  117.53\n",
       " 124.567  119.326  120.221  121.871     112.771  167.176  127.562  126.722\n",
       " 126.829  124.611  124.202  121.104     121.013  127.562  169.442  129.669\n",
       " 129.644  123.26   126.792  125.938     117.53   126.722  129.669  173.43"
      ]
     },
     "execution_count": 4,
     "metadata": {},
     "output_type": "execute_result"
    }
   ],
   "source": [
    "R = rand(500,500)\n",
    "R' * R"
   ]
  },
  {
   "cell_type": "code",
   "execution_count": null,
   "metadata": {},
   "outputs": [],
   "source": []
  },
  {
   "cell_type": "markdown",
   "metadata": {},
   "source": [
    "(Notice that, by default, only a portion of a large matrix is shown.  You didn't really want to read $500^2 = 250,000$ numbers, did you?)\n",
    "\n",
    "Standard output from Julia is also captured and sent to the IJulia notebook as you'd expect:"
   ]
  },
  {
   "cell_type": "code",
   "execution_count": 5,
   "metadata": {},
   "outputs": [
    {
     "name": "stdout",
     "output_type": "stream",
     "text": [
      "Hello world!\n",
      "\n"
     ]
    },
    {
     "name": "stderr",
     "output_type": "stream",
     "text": [
      "Börk börk börk, some unicode output on stderr...\n",
      "\n"
     ]
    }
   ],
   "source": [
    "println(\"Hello world!\\n\")\n",
    "println(stderr, \"Börk börk börk, some unicode output on stderr...\\n\")"
   ]
  },
  {
   "cell_type": "code",
   "execution_count": null,
   "metadata": {},
   "outputs": [],
   "source": []
  },
  {
   "cell_type": "markdown",
   "metadata": {},
   "source": [
    "IJulia even captures output from external C libraries (and notice how easy it is using Julia's `ccall` intrinsic):"
   ]
  },
  {
   "cell_type": "code",
   "execution_count": 6,
   "metadata": {},
   "outputs": [
    {
     "name": "stdout",
     "output_type": "stream",
     "text": [
      "Hello from C!!\n"
     ]
    }
   ],
   "source": [
    "ccall(:printf, Cint, (Ptr{UInt8},), \"Hello from C!!\\n\");"
   ]
  },
  {
   "cell_type": "code",
   "execution_count": null,
   "metadata": {},
   "outputs": [],
   "source": []
  },
  {
   "cell_type": "markdown",
   "metadata": {},
   "source": [
    "We can define functions, of course, and use them in later input cells:"
   ]
  },
  {
   "cell_type": "code",
   "execution_count": 7,
   "metadata": {},
   "outputs": [
    {
     "data": {
      "text/plain": [
       "f (generic function with 1 method)"
      ]
     },
     "execution_count": 7,
     "metadata": {},
     "output_type": "execute_result"
    }
   ],
   "source": [
    "f(x) = x .+ 1"
   ]
  },
  {
   "cell_type": "code",
   "execution_count": null,
   "metadata": {},
   "outputs": [],
   "source": []
  },
  {
   "cell_type": "code",
   "execution_count": 8,
   "metadata": {},
   "outputs": [
    {
     "name": "stdout",
     "output_type": "stream",
     "text": [
      "4\n"
     ]
    },
    {
     "data": {
      "text/plain": [
       "6-element Vector{Int64}:\n",
       " 2\n",
       " 2\n",
       " 3\n",
       " 4\n",
       " 6\n",
       " 9"
      ]
     },
     "execution_count": 8,
     "metadata": {},
     "output_type": "execute_result"
    }
   ],
   "source": [
    "println(f(3))\n",
    "f([1,1,2,3,5,8])"
   ]
  },
  {
   "cell_type": "code",
   "execution_count": null,
   "metadata": {},
   "outputs": [],
   "source": []
  },
  {
   "cell_type": "markdown",
   "metadata": {},
   "source": [
    "Notice that the input above both printed an scalar to `STDOUT` and also returned a vector, the latter using Julia's ability to write polymorphic functions and built-in array operations.\n",
    "\n",
    "On the other hand adding a string to a number is not defined (there is no `+` method defined for those types, although we could easily add one), and attempting to do so will throw an exception:"
   ]
  },
  {
   "cell_type": "code",
   "execution_count": 9,
   "metadata": {},
   "outputs": [
    {
     "ename": "LoadError",
     "evalue": "MethodError: no method matching +(::String, ::Int64)\n\u001b[0mClosest candidates are:\n\u001b[0m  +(::Any, ::Any, \u001b[91m::Any\u001b[39m, \u001b[91m::Any...\u001b[39m) at /usr/share/julia/base/operators.jl:655\n\u001b[0m  +(\u001b[91m::T\u001b[39m, ::T) where T<:Union{Int128, Int16, Int32, Int64, Int8, UInt128, UInt16, UInt32, UInt64, UInt8} at /usr/share/julia/base/int.jl:87\n\u001b[0m  +(\u001b[91m::T\u001b[39m, ::Integer) where T<:AbstractChar at /usr/share/julia/base/char.jl:237\n\u001b[0m  ...",
     "output_type": "error",
     "traceback": [
      "MethodError: no method matching +(::String, ::Int64)\n\u001b[0mClosest candidates are:\n\u001b[0m  +(::Any, ::Any, \u001b[91m::Any\u001b[39m, \u001b[91m::Any...\u001b[39m) at /usr/share/julia/base/operators.jl:655\n\u001b[0m  +(\u001b[91m::T\u001b[39m, ::T) where T<:Union{Int128, Int16, Int32, Int64, Int8, UInt128, UInt16, UInt32, UInt64, UInt8} at /usr/share/julia/base/int.jl:87\n\u001b[0m  +(\u001b[91m::T\u001b[39m, ::Integer) where T<:AbstractChar at /usr/share/julia/base/char.jl:237\n\u001b[0m  ...",
      "",
      "Stacktrace:",
      " [1] _broadcast_getindex_evalf",
      "   @ ./broadcast.jl:670 [inlined]",
      " [2] _broadcast_getindex",
      "   @ ./broadcast.jl:643 [inlined]",
      " [3] getindex",
      "   @ ./broadcast.jl:597 [inlined]",
      " [4] copy",
      "   @ ./broadcast.jl:875 [inlined]",
      " [5] materialize",
      "   @ ./broadcast.jl:860 [inlined]",
      " [6] f(x::String)",
      "   @ Main ./In[7]:1",
      " [7] top-level scope",
      "   @ In[9]:1",
      " [8] eval",
      "   @ ./boot.jl:373 [inlined]",
      " [9] include_string(mapexpr::typeof(REPL.softscope), mod::Module, code::String, filename::String)",
      "   @ Base ./loading.jl:1196"
     ]
    }
   ],
   "source": [
    "f(\"Hello?\")"
   ]
  },
  {
   "cell_type": "code",
   "execution_count": null,
   "metadata": {},
   "outputs": [],
   "source": []
  },
  {
   "cell_type": "markdown",
   "metadata": {},
   "source": [
    "# Interactive Plotting in IJulia\n",
    "\n",
    "Below we'll show off some plotting using the excellent Gadfly package. The plots are heavily inspired by [this blog post](http://int8.io/basic-visualization-in-julia-gadfly/)."
   ]
  },
  {
   "cell_type": "code",
   "execution_count": 10,
   "metadata": {},
   "outputs": [
    {
     "ename": "LoadError",
     "evalue": "ArgumentError: Package RDatasets not found in current path:\n- Run `import Pkg; Pkg.add(\"RDatasets\")` to install the RDatasets package.\n",
     "output_type": "error",
     "traceback": [
      "ArgumentError: Package RDatasets not found in current path:\n- Run `import Pkg; Pkg.add(\"RDatasets\")` to install the RDatasets package.\n",
      "",
      "Stacktrace:",
      " [1] require(into::Module, mod::Symbol)",
      "   @ Base ./loading.jl:967",
      " [2] eval",
      "   @ ./boot.jl:373 [inlined]",
      " [3] include_string(mapexpr::typeof(REPL.softscope), mod::Module, code::String, filename::String)",
      "   @ Base ./loading.jl:1196"
     ]
    }
   ],
   "source": [
    "using RDatasets\n",
    "sleep = dataset(\"lme4\",\"sleepstudy\")"
   ]
  },
  {
   "cell_type": "code",
   "execution_count": null,
   "metadata": {},
   "outputs": [],
   "source": []
  },
  {
   "cell_type": "code",
   "execution_count": null,
   "metadata": {
    "collapsed": true
   },
   "outputs": [],
   "source": [
    "using Gadfly\n",
    "plot(sleep, x = \"Days\", y = \"Reaction\", Geom.point)"
   ]
  },
  {
   "cell_type": "code",
   "execution_count": null,
   "metadata": {
    "collapsed": true
   },
   "outputs": [],
   "source": [
    "plot(sleep, x = \"Reaction\", Geom.density, color = \"Subject\", Scale.x_continuous(minvalue= 0, maxvalue= 500))"
   ]
  },
  {
   "cell_type": "code",
   "execution_count": null,
   "metadata": {
    "collapsed": true
   },
   "outputs": [],
   "source": [
    "plot(x = sleep[!, :Reaction], Geom.histogram(bincount = 30), Scale.x_continuous(minvalue = 200), color = sleep[!, :Days])"
   ]
  },
  {
   "cell_type": "markdown",
   "metadata": {},
   "source": [
    "## Multimedia display in IJulia"
   ]
  },
  {
   "cell_type": "markdown",
   "metadata": {},
   "source": [
    "Like most programming languages, Julia has a built-in `print(x)` function for outputting an object `x` as text, and you can override the resulting text representation of a user-defined type by overloading Julia's `show` function.  The next version of Julia, however, will extend this to a more general mechanism to display **arbitrary multimedia representations** of objects, as defined by standard [MIME types](https://en.wikipedia.org/wiki/Internet_media_type).   More specifically, the Julia [multimedia I/O API](http://docs.julialang.org/en/latest/stdlib/base/#multimedia-i-o) provides:\n",
    "\n",
    "* A `display(x)` function requests the richest available multimedia display of a Julia object x (with a `text/plain` fallback).\n",
    "* Overloading `writemime` allows one to indicate arbitrary multimedia representations (keyed by standard MIME types) of user-defined types.\n",
    "* Multimedia-capable display backends may be registered by subclassing a generic `Display` type.  IJulia provides one such backend which, thanks to the IPython notebook, is capable of displaying HTML, LaTeX, SVG, PNG, and JPEG media formats.\n",
    "\n",
    "The last two points are critical, because they separate **multimedia export** (which is defined by functions associated with the originating Julia data) from **multimedia display** (defined by backends which know nothing about the source of the data).\n",
    "\n",
    "Precisely these mechanism were used to create the inline PyPlot plots above.   To start with, the simplest thing is to provide the MIME type of the data when you call `display`, which allows you to pass \"raw\" data in the corresponding format:"
   ]
  },
  {
   "cell_type": "code",
   "execution_count": 11,
   "metadata": {},
   "outputs": [
    {
     "data": {
      "text/html": [
       "Hello <b>world</b> in <font color=\"red\">HTML</font>!"
      ]
     },
     "metadata": {},
     "output_type": "display_data"
    }
   ],
   "source": [
    "display(\"text/html\", \"\"\"Hello <b>world</b> in <font color=\"red\">HTML</font>!\"\"\")"
   ]
  },
  {
   "cell_type": "code",
   "execution_count": null,
   "metadata": {},
   "outputs": [],
   "source": []
  },
  {
   "cell_type": "markdown",
   "metadata": {},
   "source": [
    "However, it will be more common to attach this information to types, so that they display correctly automatically.  For example, let's define a simple `HTML` type in Julia that contains a string and automatically displays as HTML (given an HTML-capable backend such as IJulia):"
   ]
  },
  {
   "cell_type": "code",
   "execution_count": 13,
   "metadata": {},
   "outputs": [],
   "source": [
    "mutable struct HTML\n",
    "   s::String\n",
    "end\n",
    "\n",
    "Base.show(io::IO, ::MIME\"text/html\", x::HTML) = print(io, x.s)"
   ]
  },
  {
   "cell_type": "code",
   "execution_count": null,
   "metadata": {},
   "outputs": [],
   "source": []
  },
  {
   "cell_type": "code",
   "execution_count": null,
   "metadata": {},
   "outputs": [],
   "source": []
  },
  {
   "cell_type": "markdown",
   "metadata": {},
   "source": [
    "Here, `Base.show` is just a function that writes `x` in the corresponding format (`text/html`) to the I/O stream `io`.\n",
    "\n",
    "This `show` definition is all that we need to make any object of type `HTML` display automatically as HTML text in IJulia:"
   ]
  },
  {
   "cell_type": "code",
   "execution_count": 14,
   "metadata": {},
   "outputs": [
    {
     "data": {
      "text/html": [
       "<ul> <li> Hello from a bulleted list! </ul>"
      ],
      "text/plain": [
       "HTML(\"<ul> <li> Hello from a bulleted list! </ul>\")"
      ]
     },
     "execution_count": 14,
     "metadata": {},
     "output_type": "execute_result"
    }
   ],
   "source": [
    "x = HTML(\"<ul> <li> Hello from a bulleted list! </ul>\")"
   ]
  },
  {
   "cell_type": "code",
   "execution_count": null,
   "metadata": {},
   "outputs": [],
   "source": []
  },
  {
   "cell_type": "code",
   "execution_count": 15,
   "metadata": {},
   "outputs": [
    {
     "data": {
      "text/html": [
       "<ul> <li> Hello from a bulleted list! </ul>"
      ],
      "text/plain": [
       "HTML(\"<ul> <li> Hello from a bulleted list! </ul>\")"
      ]
     },
     "metadata": {},
     "output_type": "display_data"
    },
    {
     "name": "stdout",
     "output_type": "stream",
     "text": [
      "HTML(\"<ul> <li> Hello from a bulleted list! </ul>\")\n"
     ]
    }
   ],
   "source": [
    "display(x)\n",
    "println(x)"
   ]
  },
  {
   "cell_type": "code",
   "execution_count": null,
   "metadata": {},
   "outputs": [],
   "source": []
  }
 ],
 "metadata": {
  "kernelspec": {
   "display_name": "Julia 1.7.3",
   "language": "julia",
   "name": "julia-1.7"
  },
  "language_info": {
   "file_extension": ".jl",
   "mimetype": "application/julia",
   "name": "julia",
   "version": "1.7.3"
  }
 },
 "nbformat": 4,
 "nbformat_minor": 2
}
